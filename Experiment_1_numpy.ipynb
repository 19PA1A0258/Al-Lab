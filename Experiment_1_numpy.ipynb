{
  "nbformat": 4,
  "nbformat_minor": 0,
  "metadata": {
    "colab": {
      "name": "Experiment 1 numpy",
      "provenance": [],
      "authorship_tag": "ABX9TyNESUbcj/bkUEFMUULZvkVK",
      "include_colab_link": true
    },
    "kernelspec": {
      "name": "python3",
      "display_name": "Python 3"
    }
  },
  "cells": [
    {
      "cell_type": "markdown",
      "metadata": {
        "id": "view-in-github",
        "colab_type": "text"
      },
      "source": [
        "<a href=\"https://colab.research.google.com/github/19PA1A0258/Al-Lab/blob/master/Experiment_1_numpy.ipynb\" target=\"_parent\"><img src=\"https://colab.research.google.com/assets/colab-badge.svg\" alt=\"Open In Colab\"/></a>"
      ]
    },
    {
      "cell_type": "markdown",
      "metadata": {
        "id": "k4JlafXXtOKV",
        "colab_type": "text"
      },
      "source": [
        " # Experiment 1 numpy"
      ]
    },
    {
      "cell_type": "code",
      "metadata": {
        "id": "Y2_BMYVdz68W",
        "colab_type": "code",
        "colab": {}
      },
      "source": [
        "import numpy as np"
      ],
      "execution_count": 15,
      "outputs": []
    },
    {
      "cell_type": "markdown",
      "metadata": {
        "id": "zKdN1wWW0CBe",
        "colab_type": "text"
      },
      "source": [
        "## I) Different ways to create numpy array"
      ]
    },
    {
      "cell_type": "markdown",
      "metadata": {
        "id": "G4KFxRAERlBb",
        "colab_type": "text"
      },
      "source": [
        " ### 1)create numpy using list"
      ]
    },
    {
      "cell_type": "code",
      "metadata": {
        "id": "r02GyGKA0KBM",
        "colab_type": "code",
        "colab": {
          "base_uri": "https://localhost:8080/",
          "height": 34
        },
        "outputId": "170c886b-78f1-4507-a6da-67177e80f151"
      },
      "source": [
        "r=np.array([5,6,7])\n",
        "print(r)"
      ],
      "execution_count": null,
      "outputs": [
        {
          "output_type": "stream",
          "text": [
            "[5 6 7]\n"
          ],
          "name": "stdout"
        }
      ]
    },
    {
      "cell_type": "code",
      "metadata": {
        "id": "Oc7jrAmR1aPB",
        "colab_type": "code",
        "colab": {
          "base_uri": "https://localhost:8080/",
          "height": 68
        },
        "outputId": "e1343232-7941-4fda-df73-663f418ab9b5"
      },
      "source": [
        "r=np.array([[3,4],[6,7],[8,9]])\n",
        "print(r)"
      ],
      "execution_count": null,
      "outputs": [
        {
          "output_type": "stream",
          "text": [
            "[[3 4]\n",
            " [6 7]\n",
            " [8 9]]\n"
          ],
          "name": "stdout"
        }
      ]
    },
    {
      "cell_type": "markdown",
      "metadata": {
        "id": "1TITr8Nd3UsT",
        "colab_type": "text"
      },
      "source": [
        " ## II)Add, remove, modify elements in an array"
      ]
    },
    {
      "cell_type": "markdown",
      "metadata": {
        "id": "7cAWk56namaA",
        "colab_type": "text"
      },
      "source": [
        " ### 1)Adding elements in array"
      ]
    },
    {
      "cell_type": "code",
      "metadata": {
        "id": "buI4Bc_f3zIO",
        "colab_type": "code",
        "colab": {
          "base_uri": "https://localhost:8080/",
          "height": 34
        },
        "outputId": "9849d0d9-b080-43e2-d4a6-5f00c2e48bdb"
      },
      "source": [
        "b=np.append([3,4,5,6],r)\n",
        "print(b)"
      ],
      "execution_count": null,
      "outputs": [
        {
          "output_type": "stream",
          "text": [
            "[3 4 5 6 3 4 6 7 8 9]\n"
          ],
          "name": "stdout"
        }
      ]
    },
    {
      "cell_type": "markdown",
      "metadata": {
        "id": "fygBV6IOa76E",
        "colab_type": "text"
      },
      "source": [
        "### 2)Remove elements in array"
      ]
    },
    {
      "cell_type": "code",
      "metadata": {
        "id": "vEVssvEu80oR",
        "colab_type": "code",
        "colab": {
          "base_uri": "https://localhost:8080/",
          "height": 51
        },
        "outputId": "1f38c8b0-ddcd-406b-dba3-b4bf086a8976"
      },
      "source": [
        "m=np.array([[1,2,7,9,8],[1,2,3,4,5]])\n",
        "print(m)"
      ],
      "execution_count": 13,
      "outputs": [
        {
          "output_type": "stream",
          "text": [
            "[[1 2 7 9 8]\n",
            " [1 2 3 4 5]]\n"
          ],
          "name": "stdout"
        }
      ]
    },
    {
      "cell_type": "code",
      "metadata": {
        "id": "G1YNyhPT_Xg9",
        "colab_type": "code",
        "colab": {
          "base_uri": "https://localhost:8080/",
          "height": 34
        },
        "outputId": "539d09e3-fb40-412e-ce53-ee2b20b469c3"
      },
      "source": [
        "np.delete(m,1,0)"
      ],
      "execution_count": 14,
      "outputs": [
        {
          "output_type": "execute_result",
          "data": {
            "text/plain": [
              "array([[1, 2, 7, 9, 8]])"
            ]
          },
          "metadata": {
            "tags": []
          },
          "execution_count": 14
        }
      ]
    },
    {
      "cell_type": "markdown",
      "metadata": {
        "id": "elxgaNLcbXdZ",
        "colab_type": "text"
      },
      "source": [
        "### 3)modify elements in array"
      ]
    },
    {
      "cell_type": "code",
      "metadata": {
        "id": "3NADJxfoDXfO",
        "colab_type": "code",
        "colab": {
          "base_uri": "https://localhost:8080/",
          "height": 88
        },
        "outputId": "beb6e86c-0055-4945-b6f7-ed78df74ad70"
      },
      "source": [
        "x=np.array([[ 0.42436315, 0.48558583, 0.32924763], [ 0.7439979,0.58220701,0.38213418], [ 0.5097581,0.34528799,0.1563123 ]])\n",
        "x[x>.5]=.5\n",
        "print(x)"
      ],
      "execution_count": null,
      "outputs": [
        {
          "output_type": "stream",
          "text": [
            "[[0.42436315 0.48558583 0.32924763]\n",
            " [0.5        0.5        0.38213418]\n",
            " [0.5        0.34528799 0.1563123 ]]\n"
          ],
          "name": "stdout"
        }
      ]
    },
    {
      "cell_type": "markdown",
      "metadata": {
        "id": "oc8b9lPSDvas",
        "colab_type": "text"
      },
      "source": [
        " ## III)Arithmetic operations on NumPy array"
      ]
    },
    {
      "cell_type": "code",
      "metadata": {
        "id": "nD-PqMyOEGA9",
        "colab_type": "code",
        "colab": {
          "base_uri": "https://localhost:8080/",
          "height": 51
        },
        "outputId": "d17561fd-1f5f-464b-b0b1-b4111ca14e15"
      },
      "source": [
        "a=np.random.randint(100,size=5)\n",
        "b=np.random.randint(100,size=5)\n",
        "print(a)\n",
        "print(b)"
      ],
      "execution_count": null,
      "outputs": [
        {
          "output_type": "stream",
          "text": [
            "[69 35 19 45 36]\n",
            "[62 32  8 29 56]\n"
          ],
          "name": "stdout"
        }
      ]
    },
    {
      "cell_type": "code",
      "metadata": {
        "id": "lFjjsnnyMcs7",
        "colab_type": "code",
        "colab": {
          "base_uri": "https://localhost:8080/",
          "height": 122
        },
        "outputId": "68a72f0c-4ea8-40f6-f4fa-6cf1c0825a42"
      },
      "source": [
        "sum=np.add(a,b)\n",
        "pro=np.multiply(a,b)\n",
        "sub=np.subtract(a,b)\n",
        "div=np.divide(a,b)\n",
        "mod=np.mod(a,b)\n",
        "print(sum)\n",
        "print(pro)\n",
        "print(sub)\n",
        "print(div)\n",
        "print(mod)"
      ],
      "execution_count": null,
      "outputs": [
        {
          "output_type": "stream",
          "text": [
            "[131  67  27  74  92]\n",
            "[4278 1120  152 1305 2016]\n",
            "[  7   3  11  16 -20]\n",
            "[1.11290323 1.09375    2.375      1.55172414 0.64285714]\n",
            "[ 7  3  3 16 36]\n"
          ],
          "name": "stdout"
        }
      ]
    },
    {
      "cell_type": "markdown",
      "metadata": {
        "id": "-4xKn8uuaYm9",
        "colab_type": "text"
      },
      "source": [
        "## IV)Slicing and iterating of NumPy arrays"
      ]
    },
    {
      "cell_type": "markdown",
      "metadata": {
        "id": "MU4q1KPfUhup",
        "colab_type": "text"
      },
      "source": [
        "### 1)slicing"
      ]
    },
    {
      "cell_type": "code",
      "metadata": {
        "id": "oRmEsNolUmIY",
        "colab_type": "code",
        "colab": {
          "base_uri": "https://localhost:8080/",
          "height": 34
        },
        "outputId": "ee5b035a-45c6-4a47-c03b-e474c0f81ca0"
      },
      "source": [
        "a=np.array([1, 2, 3, 4, 5, 6, 7])\n",
        "print(a[1:5])"
      ],
      "execution_count": 3,
      "outputs": [
        {
          "output_type": "stream",
          "text": [
            "[2 3 4 5]\n"
          ],
          "name": "stdout"
        }
      ]
    },
    {
      "cell_type": "code",
      "metadata": {
        "id": "WdPocT53VBeX",
        "colab_type": "code",
        "colab": {
          "base_uri": "https://localhost:8080/",
          "height": 34
        },
        "outputId": "1f4026d7-ca69-44ed-c07a-be614da40091"
      },
      "source": [
        " \n",
        "b= np.array([1, 2, 3, 4, 5, 6, 7])\n",
        "print(b[1:5:2])"
      ],
      "execution_count": 5,
      "outputs": [
        {
          "output_type": "stream",
          "text": [
            "[2 4]\n"
          ],
          "name": "stdout"
        }
      ]
    },
    {
      "cell_type": "markdown",
      "metadata": {
        "id": "MaXSNViJVxBf",
        "colab_type": "text"
      },
      "source": [
        " ### 2)iterating"
      ]
    },
    {
      "cell_type": "code",
      "metadata": {
        "id": "cKLE198lV8_p",
        "colab_type": "code",
        "colab": {
          "base_uri": "https://localhost:8080/",
          "height": 51
        },
        "outputId": "86664f7e-d6e0-4119-c6c1-75ee79a0d268"
      },
      "source": [
        "a=np.array([[1, 2, 3], [4, 5, 6]])\n",
        "for x in a:\n",
        "  print(x)"
      ],
      "execution_count": 6,
      "outputs": [
        {
          "output_type": "stream",
          "text": [
            "[1 2 3]\n",
            "[4 5 6]\n"
          ],
          "name": "stdout"
        }
      ]
    },
    {
      "cell_type": "code",
      "metadata": {
        "id": "oJykD2eCWvAL",
        "colab_type": "code",
        "colab": {
          "base_uri": "https://localhost:8080/",
          "height": 187
        },
        "outputId": "713f2376-89c2-4536-cf83-78b3d45ec19b"
      },
      "source": [
        "b=np.array([1,2,3,4,5,6,7,8,9,10])\n",
        "for x in b:\n",
        "  print(x)"
      ],
      "execution_count": 7,
      "outputs": [
        {
          "output_type": "stream",
          "text": [
            "1\n",
            "2\n",
            "3\n",
            "4\n",
            "5\n",
            "6\n",
            "7\n",
            "8\n",
            "9\n",
            "10\n"
          ],
          "name": "stdout"
        }
      ]
    },
    {
      "cell_type": "markdown",
      "metadata": {
        "id": "ELA783TMXJUz",
        "colab_type": "text"
      },
      "source": [
        " ##  V)Matrix operations on NumPy arrays"
      ]
    },
    {
      "cell_type": "code",
      "metadata": {
        "id": "e5oSxRsxXTB7",
        "colab_type": "code",
        "colab": {
          "base_uri": "https://localhost:8080/",
          "height": 139
        },
        "outputId": "d74af2e9-6f1b-4237-cd52-9c9780f17e8e"
      },
      "source": [
        "x = np.array([1,5,2])\n",
        "y = np.array([7,4,1])\n",
        "Sum=np.add(x,y)\n",
        "Sub=np.subtract(x,y)\n",
        "Pro=np.multiply(x,y)\n",
        "Div=np.divide(x,y)\n",
        "print(x)\n",
        "print(y)\n",
        "print(Sum)\n",
        "print(Sub)\n",
        "print(Pro)\n",
        "print(Div)"
      ],
      "execution_count": 8,
      "outputs": [
        {
          "output_type": "stream",
          "text": [
            "[1 5 2]\n",
            "[7 4 1]\n",
            "[8 9 3]\n",
            "[-6  1  1]\n",
            "[ 7 20  2]\n",
            "[0.14285714 1.25       2.        ]\n"
          ],
          "name": "stdout"
        }
      ]
    }
  ]
}