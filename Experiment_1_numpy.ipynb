{
  "nbformat": 4,
  "nbformat_minor": 0,
  "metadata": {
    "colab": {
      "name": "Experiment 1 numpy",
      "provenance": [],
      "collapsed_sections": [],
      "authorship_tag": "ABX9TyPiVpF4ekJsLgc8gc2N0im0",
      "include_colab_link": true
    },
    "kernelspec": {
      "name": "python3",
      "display_name": "Python 3"
    }
  },
  "cells": [
    {
      "cell_type": "markdown",
      "metadata": {
        "id": "view-in-github",
        "colab_type": "text"
      },
      "source": [
        "<a href=\"https://colab.research.google.com/github/19PA1A0258/Al-Lab/blob/master/Experiment_1_numpy.ipynb\" target=\"_parent\"><img src=\"https://colab.research.google.com/assets/colab-badge.svg\" alt=\"Open In Colab\"/></a>"
      ]
    },
    {
      "cell_type": "markdown",
      "metadata": {
        "id": "k4JlafXXtOKV",
        "colab_type": "text"
      },
      "source": [
        " # Experiment 1 numpy"
      ]
    },
    {
      "cell_type": "code",
      "metadata": {
        "id": "Y2_BMYVdz68W",
        "colab_type": "code",
        "colab": {}
      },
      "source": [
        "import numpy as np"
      ],
      "execution_count": null,
      "outputs": []
    },
    {
      "cell_type": "markdown",
      "metadata": {
        "id": "zKdN1wWW0CBe",
        "colab_type": "text"
      },
      "source": [
        " ## I)Different ways to create NumPy arrays"
      ]
    },
    {
      "cell_type": "markdown",
      "metadata": {
        "id": "MP68MXfth15i",
        "colab_type": "text"
      },
      "source": [
        " ### 1) create a numpy array using list"
      ]
    },
    {
      "cell_type": "code",
      "metadata": {
        "id": "r02GyGKA0KBM",
        "colab_type": "code",
        "colab": {
          "base_uri": "https://localhost:8080/",
          "height": 34
        },
        "outputId": "170c886b-78f1-4507-a6da-67177e80f151"
      },
      "source": [
        "r=np.array([5,6,7])\n",
        "print(r)"
      ],
      "execution_count": null,
      "outputs": [
        {
          "output_type": "stream",
          "text": [
            "[5 6 7]\n"
          ],
          "name": "stdout"
        }
      ]
    },
    {
      "cell_type": "code",
      "metadata": {
        "id": "Oc7jrAmR1aPB",
        "colab_type": "code",
        "colab": {
          "base_uri": "https://localhost:8080/",
          "height": 68
        },
        "outputId": "e1343232-7941-4fda-df73-663f418ab9b5"
      },
      "source": [
        "r=np.array([[3,4],[6,7],[8,9]])\n",
        "print(r)"
      ],
      "execution_count": null,
      "outputs": [
        {
          "output_type": "stream",
          "text": [
            "[[3 4]\n",
            " [6 7]\n",
            " [8 9]]\n"
          ],
          "name": "stdout"
        }
      ]
    },
    {
      "cell_type": "markdown",
      "metadata": {
        "id": "1TITr8Nd3UsT",
        "colab_type": "text"
      },
      "source": [
        " ## II)Add, remove, modify elements in an array"
      ]
    },
    {
      "cell_type": "markdown",
      "metadata": {
        "id": "CPIwWGE1iWJT",
        "colab_type": "text"
      },
      "source": [
        " ### 1) Adding elements in an array"
      ]
    },
    {
      "cell_type": "code",
      "metadata": {
        "id": "buI4Bc_f3zIO",
        "colab_type": "code",
        "colab": {
          "base_uri": "https://localhost:8080/",
          "height": 34
        },
        "outputId": "9849d0d9-b080-43e2-d4a6-5f00c2e48bdb"
      },
      "source": [
        "b=np.append([3,4,5,6],r)\n",
        "print(b)"
      ],
      "execution_count": null,
      "outputs": [
        {
          "output_type": "stream",
          "text": [
            "[3 4 5 6 3 4 6 7 8 9]\n"
          ],
          "name": "stdout"
        }
      ]
    },
    {
      "cell_type": "markdown",
      "metadata": {
        "id": "p6sxms3Gihnn",
        "colab_type": "text"
      },
      "source": [
        " ### 2) Remove elements in an array"
      ]
    },
    {
      "cell_type": "code",
      "metadata": {
        "id": "vEVssvEu80oR",
        "colab_type": "code",
        "colab": {
          "base_uri": "https://localhost:8080/",
          "height": 51
        },
        "outputId": "04bad436-2269-44ce-99a0-60888476eb6a"
      },
      "source": [
        "m=np.array([[1,2,7,9,8],[1,2,3,4,5]])\n",
        "print(m)"
      ],
      "execution_count": null,
      "outputs": [
        {
          "output_type": "stream",
          "text": [
            "[[1 2 7 9 8]\n",
            " [1 2 3 4 5]]\n"
          ],
          "name": "stdout"
        }
      ]
    },
    {
      "cell_type": "code",
      "metadata": {
        "id": "G1YNyhPT_Xg9",
        "colab_type": "code",
        "colab": {
          "base_uri": "https://localhost:8080/",
          "height": 34
        },
        "outputId": "3d5b330c-95ad-42ae-b68d-4fffc0c66df6"
      },
      "source": [
        "np.delete(m,1,0)"
      ],
      "execution_count": null,
      "outputs": [
        {
          "output_type": "execute_result",
          "data": {
            "text/plain": [
              "array([[1, 2, 7, 9, 8]])"
            ]
          },
          "metadata": {
            "tags": []
          },
          "execution_count": 21
        }
      ]
    },
    {
      "cell_type": "markdown",
      "metadata": {
        "id": "HJ8FpsUVivh5",
        "colab_type": "text"
      },
      "source": [
        " ### 3) Modify elements in an array"
      ]
    },
    {
      "cell_type": "code",
      "metadata": {
        "id": "3NADJxfoDXfO",
        "colab_type": "code",
        "colab": {
          "base_uri": "https://localhost:8080/",
          "height": 88
        },
        "outputId": "beb6e86c-0055-4945-b6f7-ed78df74ad70"
      },
      "source": [
        "x=np.array([[ 0.42436315, 0.48558583, 0.32924763], [ 0.7439979,0.58220701,0.38213418], [ 0.5097581,0.34528799,0.1563123 ]])\n",
        "x[x>.5]=.5\n",
        "print(x)"
      ],
      "execution_count": null,
      "outputs": [
        {
          "output_type": "stream",
          "text": [
            "[[0.42436315 0.48558583 0.32924763]\n",
            " [0.5        0.5        0.38213418]\n",
            " [0.5        0.34528799 0.1563123 ]]\n"
          ],
          "name": "stdout"
        }
      ]
    },
    {
      "cell_type": "markdown",
      "metadata": {
        "id": "oc8b9lPSDvas",
        "colab_type": "text"
      },
      "source": [
        " ## III)Arithmetic operations on NumPy array"
      ]
    },
    {
      "cell_type": "code",
      "metadata": {
        "id": "nD-PqMyOEGA9",
        "colab_type": "code",
        "colab": {
          "base_uri": "https://localhost:8080/",
          "height": 51
        },
        "outputId": "d17561fd-1f5f-464b-b0b1-b4111ca14e15"
      },
      "source": [
        "a=np.random.randint(100,size=5)\n",
        "b=np.random.randint(100,size=5)\n",
        "print(a)\n",
        "print(b)"
      ],
      "execution_count": null,
      "outputs": [
        {
          "output_type": "stream",
          "text": [
            "[69 35 19 45 36]\n",
            "[62 32  8 29 56]\n"
          ],
          "name": "stdout"
        }
      ]
    },
    {
      "cell_type": "code",
      "metadata": {
        "id": "lFjjsnnyMcs7",
        "colab_type": "code",
        "colab": {
          "base_uri": "https://localhost:8080/",
          "height": 122
        },
        "outputId": "68a72f0c-4ea8-40f6-f4fa-6cf1c0825a42"
      },
      "source": [
        "sum=np.add(a,b)\n",
        "pro=np.multiply(a,b)\n",
        "sub=np.subtract(a,b)\n",
        "div=np.divide(a,b)\n",
        "mod=np.mod(a,b)\n",
        "print(sum)\n",
        "print(pro)\n",
        "print(sub)\n",
        "print(div)\n",
        "print(mod)"
      ],
      "execution_count": null,
      "outputs": [
        {
          "output_type": "stream",
          "text": [
            "[131  67  27  74  92]\n",
            "[4278 1120  152 1305 2016]\n",
            "[  7   3  11  16 -20]\n",
            "[1.11290323 1.09375    2.375      1.55172414 0.64285714]\n",
            "[ 7  3  3 16 36]\n"
          ],
          "name": "stdout"
        }
      ]
    },
    {
      "cell_type": "markdown",
      "metadata": {
        "id": "-4xKn8uuaYm9",
        "colab_type": "text"
      },
      "source": [
        "## IV) Slicing and iterating of NumPy arrays"
      ]
    },
    {
      "cell_type": "markdown",
      "metadata": {
        "id": "RKYTHMR9jd31",
        "colab_type": "text"
      },
      "source": [
        "### 1) Slicing the numpy arrays"
      ]
    },
    {
      "cell_type": "code",
      "metadata": {
        "id": "4lGnJ7ZJj-rW",
        "colab_type": "code",
        "colab": {
          "base_uri": "https://localhost:8080/",
          "height": 34
        },
        "outputId": "b297e8ea-a825-4b31-fe11-2157905a3081"
      },
      "source": [
        "a=np.array([1, 2, 3, 4, 5, 6, 7])\n",
        "print(a[1:5])"
      ],
      "execution_count": 18,
      "outputs": [
        {
          "output_type": "stream",
          "text": [
            "[2 3 4 5]\n"
          ],
          "name": "stdout"
        }
      ]
    },
    {
      "cell_type": "code",
      "metadata": {
        "id": "-hL1Fq-JkQ-7",
        "colab_type": "code",
        "colab": {
          "base_uri": "https://localhost:8080/",
          "height": 34
        },
        "outputId": "d2382c3c-a4e8-4aaa-c9de-df7c2af7a7a2"
      },
      "source": [
        "b= np.array([1, 2, 3, 4, 5, 6, 7])\n",
        "print(b[1:5:2])"
      ],
      "execution_count": 17,
      "outputs": [
        {
          "output_type": "stream",
          "text": [
            "[2 4]\n"
          ],
          "name": "stdout"
        }
      ]
    },
    {
      "cell_type": "markdown",
      "metadata": {
        "id": "Ghq47SF7kWgr",
        "colab_type": "text"
      },
      "source": [
        " ### 2) Iterating the numpy arrays"
      ]
    },
    {
      "cell_type": "code",
      "metadata": {
        "id": "rKq45CzYkkt8",
        "colab_type": "code",
        "colab": {
          "base_uri": "https://localhost:8080/",
          "height": 51
        },
        "outputId": "0472521a-c524-46a7-cf53-b0fc5857a1b5"
      },
      "source": [
        "a=np.array([[1, 2, 3], [4, 5, 6]])\n",
        "for x in a:\n",
        "  print(x)"
      ],
      "execution_count": 19,
      "outputs": [
        {
          "output_type": "stream",
          "text": [
            "[1 2 3]\n",
            "[4 5 6]\n"
          ],
          "name": "stdout"
        }
      ]
    },
    {
      "cell_type": "code",
      "metadata": {
        "id": "RFbXEY6znoNq",
        "colab_type": "code",
        "colab": {
          "base_uri": "https://localhost:8080/",
          "height": 187
        },
        "outputId": "f39eda7d-96d3-4e59-d53a-75e0defca120"
      },
      "source": [
        "b=np.array([1,2,3,4,5,6,7,8,9,10])\n",
        "for x in b:\n",
        "  print(x)"
      ],
      "execution_count": 20,
      "outputs": [
        {
          "output_type": "stream",
          "text": [
            "1\n",
            "2\n",
            "3\n",
            "4\n",
            "5\n",
            "6\n",
            "7\n",
            "8\n",
            "9\n",
            "10\n"
          ],
          "name": "stdout"
        }
      ]
    },
    {
      "cell_type": "markdown",
      "metadata": {
        "id": "hbZUN6dHn0eR",
        "colab_type": "text"
      },
      "source": [
        " ## V)Matrix operations on NumPy arrays"
      ]
    },
    {
      "cell_type": "code",
      "metadata": {
        "id": "c1Be8_D0oQWO",
        "colab_type": "code",
        "colab": {
          "base_uri": "https://localhost:8080/",
          "height": 139
        },
        "outputId": "8069eb3a-e043-491f-887f-53160c8681fa"
      },
      "source": [
        "x = np.array([1,5,2])\n",
        "y = np.array([7,4,1])\n",
        "Sum=np.add(x,y)\n",
        "Sub=np.subtract(x,y)\n",
        "Pro=np.multiply(x,y)\n",
        "Div=np.divide(x,y)\n",
        "print(x)\n",
        "print(y)\n",
        "print(Sum)\n",
        "print(Sub)\n",
        "print(Pro)\n",
        "print(Div)"
      ],
      "execution_count": 21,
      "outputs": [
        {
          "output_type": "stream",
          "text": [
            "[1 5 2]\n",
            "[7 4 1]\n",
            "[8 9 3]\n",
            "[-6  1  1]\n",
            "[ 7 20  2]\n",
            "[0.14285714 1.25       2.        ]\n"
          ],
          "name": "stdout"
        }
      ]
    }
  ]
}