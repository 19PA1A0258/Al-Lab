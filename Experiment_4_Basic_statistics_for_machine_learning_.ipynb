{
  "nbformat": 4,
  "nbformat_minor": 0,
  "metadata": {
    "colab": {
      "name": "Experiment 4-Basic statistics for machine learning.",
      "provenance": [],
      "collapsed_sections": [],
      "authorship_tag": "ABX9TyNRkcZ2bluCInL4wwnA7LI9",
      "include_colab_link": true
    },
    "kernelspec": {
      "name": "python3",
      "display_name": "Python 3"
    }
  },
  "cells": [
    {
      "cell_type": "markdown",
      "metadata": {
        "id": "view-in-github",
        "colab_type": "text"
      },
      "source": [
        "<a href=\"https://colab.research.google.com/github/19PA1A0258/Al-Lab/blob/master/Experiment_4_Basic_statistics_for_machine_learning_.ipynb\" target=\"_parent\"><img src=\"https://colab.research.google.com/assets/colab-badge.svg\" alt=\"Open In Colab\"/></a>"
      ]
    },
    {
      "cell_type": "code",
      "metadata": {
        "id": "3TFQ2lHtilCx"
      },
      "source": [
        "import numpy as np\n",
        "import pandas as pd\n",
        "import seaborn as sns\n",
        "import matplotlib.pyplot as plt"
      ],
      "execution_count": 2,
      "outputs": []
    },
    {
      "cell_type": "markdown",
      "metadata": {
        "id": "dpAM2Y_GmJb3"
      },
      "source": [
        "# Import the data"
      ]
    },
    {
      "cell_type": "code",
      "metadata": {
        "id": "2x61MlIGl5wn"
      },
      "source": [
        "df=pd.read_csv('students_placement_data (3).csv')"
      ],
      "execution_count": 3,
      "outputs": []
    },
    {
      "cell_type": "markdown",
      "metadata": {
        "id": "heRQQz64ilZT"
      },
      "source": [
        "# 1) Central Tendency- Mean, Median, Mode"
      ]
    },
    {
      "cell_type": "markdown",
      "metadata": {
        "id": "x4ftdLUEnaqu"
      },
      "source": [
        "## 1.1) Calculate the mean & median of SSC Percentage,inter_Diploma_percentage and B.Tech_percentage"
      ]
    },
    {
      "cell_type": "code",
      "metadata": {
        "id": "aGOITJWPnQQn",
        "outputId": "23afcf38-51a1-4cba-998e-59e0dd46eb2e",
        "colab": {
          "base_uri": "https://localhost:8080/",
          "height": 88
        }
      },
      "source": [
        "print(\"Mean of SSC score\",df[\"SSC Percentage\"].mean())\n",
        "print(\"Mean of inter_Diploma score\",df[\"inter_Diploma_percentage\"].mean())\n",
        "print(\"Mean of B.Tech score\",df[\"B.Tech_percentage\"].mean())"
      ],
      "execution_count": 4,
      "outputs": [
        {
          "output_type": "stream",
          "text": [
            "Mean of SSC score 80.47456896551722\n",
            "Mean of inter_Diploma score 80.77290598290598\n",
            "Mean of B.Tech score 62.9434188034188\n"
          ],
          "name": "stdout"
        }
      ]
    },
    {
      "cell_type": "code",
      "metadata": {
        "id": "ck65OpZYsMB3",
        "outputId": "a10b3063-29ca-4973-8865-cefaf74113c5",
        "colab": {
          "base_uri": "https://localhost:8080/",
          "height": 88
        }
      },
      "source": [
        "print(\"Median of SSC score\",df[\"SSC Percentage\"].median())\n",
        "print(\"Median of inter_Diploma score\",df[\"inter_Diploma_percentage\"].median())\n",
        "print(\"Median of B.Tech score\",df[\"B.Tech_percentage\"].median())"
      ],
      "execution_count": 5,
      "outputs": [
        {
          "output_type": "stream",
          "text": [
            "Median of SSC score 82.745\n",
            "Median of inter_Diploma score 83.6\n",
            "Median of B.Tech score 64.36\n"
          ],
          "name": "stdout"
        }
      ]
    },
    {
      "cell_type": "markdown",
      "metadata": {
        "id": "yK8ETmM1twMA"
      },
      "source": [
        "## 1.2) Apply mode on Gender. Are there more male or female?"
      ]
    },
    {
      "cell_type": "code",
      "metadata": {
        "id": "3pC8Ud_at1_v",
        "outputId": "05b9158e-e900-4148-fbde-f3dc1187a226",
        "colab": {
          "base_uri": "https://localhost:8080/",
          "height": 102
        }
      },
      "source": [
        "print(df[\"Gender\"].value_counts(dropna=True))\n",
        "print(\"there are more\",df[\"Gender\"].mode())"
      ],
      "execution_count": 6,
      "outputs": [
        {
          "output_type": "stream",
          "text": [
            "M    68\n",
            "F    49\n",
            "Name: Gender, dtype: int64\n",
            "there are more 0    M\n",
            "dtype: object\n"
          ],
          "name": "stdout"
        }
      ]
    },
    {
      "cell_type": "markdown",
      "metadata": {
        "id": "K3zwGBTW0Hh5"
      },
      "source": [
        "# 2) Distribution of Data- Range, Interquartile range, Variance, Standard deviation, Correlation."
      ]
    },
    {
      "cell_type": "markdown",
      "metadata": {
        "id": "3zOUCqPi0X1p"
      },
      "source": [
        "## 2.1) Range\n",
        "### Range defines the difference between the maximum and minimum value.\n",
        "### What is the range of SSC Percentage,inter_Diploma_percentage and B.Tech_percentage"
      ]
    },
    {
      "cell_type": "code",
      "metadata": {
        "id": "kO15R8HT0lo4",
        "outputId": "86d6b7c3-1d1f-464d-b52f-14c7622d5f1c",
        "colab": {
          "base_uri": "https://localhost:8080/",
          "height": 139
        }
      },
      "source": [
        "print(\"Range in SSC score \", df[[\"SSC Percentage\"]].max()- df[[\"SSC Percentage\"]].min())\n",
        "print(\"Range in inter_Diploma score \", df[[\"inter_Diploma_percentage\"]].max()- df[[\"inter_Diploma_percentage\"]].min())\n",
        "print(\"Range in B.Tech score \", df[[\"B.Tech_percentage\"]].max()- df[[\"B.Tech_percentage\"]].min())"
      ],
      "execution_count": 7,
      "outputs": [
        {
          "output_type": "stream",
          "text": [
            "Range in SSC score  SSC Percentage    45.86\n",
            "dtype: float64\n",
            "Range in inter_Diploma score  inter_Diploma_percentage    44.7\n",
            "dtype: float64\n",
            "Range in B.Tech score  B.Tech_percentage    56.9\n",
            "dtype: float64\n"
          ],
          "name": "stdout"
        }
      ]
    },
    {
      "cell_type": "markdown",
      "metadata": {
        "id": "lO3jiLfnwt4u"
      },
      "source": [
        "##2.2) Interquartile range\r\n",
        "###Find the interquartile range of SSC percentage."
      ]
    },
    {
      "cell_type": "code",
      "metadata": {
        "id": "iBfJX82Pw8a4",
        "outputId": "0617292a-ff2f-4a93-e804-e17d83249313",
        "colab": {
          "base_uri": "https://localhost:8080/",
          "height": 88
        }
      },
      "source": [
        "Q1=df['SSC Percentage']. quantile (0.25)\n",
        "print ('Quartile 1 is' ,Q1)\n",
        "Q3=df['SSC Percentage']. quantile (0.75)\n",
        "print('Quartile 3 is',Q3)\n",
        "IQR=Q3-Q1\n",
        "print ('The interquartile range is',IQR)"
      ],
      "execution_count": 8,
      "outputs": [
        {
          "output_type": "stream",
          "text": [
            "Quartile 1 is 76.6225\n",
            "Quartile 3 is 87.025\n",
            "The interquartile range is 10.402500000000003\n"
          ],
          "name": "stdout"
        }
      ]
    },
    {
      "cell_type": "markdown",
      "metadata": {
        "id": "SPW1ghmQynVC"
      },
      "source": [
        "## 2.3) Standard deviation\n",
        "### Find the standard deviation of SSC Percentage,inter_Diploma_percentage andB.Tech_percentage."
      ]
    },
    {
      "cell_type": "code",
      "metadata": {
        "id": "TdjbdC_EzFMJ",
        "outputId": "ffdaf4de-8529-41e6-8a64-26452d1ff6f0",
        "colab": {
          "base_uri": "https://localhost:8080/",
          "height": 88
        }
      },
      "source": [
        "print(\"standard deviation in SSC score \", df[\"SSC Percentage\"].std())\n",
        "print(\"standard deviation in inter_Diploma score \", df[\"inter_Diploma_percentage\"].std())\n",
        "print(\"standard deviation in B.Tech score \", df[\"B.Tech_percentage\"].std())"
      ],
      "execution_count": 11,
      "outputs": [
        {
          "output_type": "stream",
          "text": [
            "standard deviation in SSC score  8.836078944698352\n",
            "standard deviation in inter_Diploma score  11.26724785566931\n",
            "standard deviation in B.Tech score  12.064305584885746\n"
          ],
          "name": "stdout"
        }
      ]
    },
    {
      "cell_type": "markdown",
      "metadata": {
        "id": "2fyKIaKe0FzB"
      },
      "source": [
        "## 2.4) Variance\r\n",
        "### Find the variance of SSC Percentage,inter_Diploma_percentage and B.Tech_percentage."
      ]
    },
    {
      "cell_type": "code",
      "metadata": {
        "id": "ob-LbpJW0Q1h",
        "outputId": "266bc7e2-2a84-4919-9f20-14eca82c9db9",
        "colab": {
          "base_uri": "https://localhost:8080/",
          "height": 88
        }
      },
      "source": [
        "print(\"variance in SSC score \", df[\"SSC Percentage\"].var())\n",
        "print(\"variance in inter_Diploma score \", df[\"inter_Diploma_percentage\"].var())\n",
        "print(\"variance in B.Tech score \", df[\"B.Tech_percentage\"].var())"
      ],
      "execution_count": 13,
      "outputs": [
        {
          "output_type": "stream",
          "text": [
            "variance in SSC score  78.07629111694153\n",
            "variance in inter_Diploma score  126.95087424108468\n",
            "variance in B.Tech score  145.54746924550543\n"
          ],
          "name": "stdout"
        }
      ]
    },
    {
      "cell_type": "markdown",
      "metadata": {
        "id": "7g1N_5zJ1T-c"
      },
      "source": [
        "## 2.5) Correlation\n",
        "### Find the correlation between SSC Percentage, inter_Diploma_percentage and B.Tech Percentages"
      ]
    },
    {
      "cell_type": "code",
      "metadata": {
        "id": "AlO0m4zh1kI2",
        "outputId": "cfa1c96a-ac3d-48c5-825c-40b99250cf1a",
        "colab": {
          "base_uri": "https://localhost:8080/",
          "height": 179
        }
      },
      "source": [
        "df[['SSC Percentage','inter_Diploma_percentage','B.Tech_percentage']].corr()"
      ],
      "execution_count": 14,
      "outputs": [
        {
          "output_type": "execute_result",
          "data": {
            "text/html": [
              "<div>\n",
              "<style scoped>\n",
              "    .dataframe tbody tr th:only-of-type {\n",
              "        vertical-align: middle;\n",
              "    }\n",
              "\n",
              "    .dataframe tbody tr th {\n",
              "        vertical-align: top;\n",
              "    }\n",
              "\n",
              "    .dataframe thead th {\n",
              "        text-align: right;\n",
              "    }\n",
              "</style>\n",
              "<table border=\"1\" class=\"dataframe\">\n",
              "  <thead>\n",
              "    <tr style=\"text-align: right;\">\n",
              "      <th></th>\n",
              "      <th>SSC Percentage</th>\n",
              "      <th>inter_Diploma_percentage</th>\n",
              "      <th>B.Tech_percentage</th>\n",
              "    </tr>\n",
              "  </thead>\n",
              "  <tbody>\n",
              "    <tr>\n",
              "      <th>SSC Percentage</th>\n",
              "      <td>1.000000</td>\n",
              "      <td>0.625586</td>\n",
              "      <td>0.492849</td>\n",
              "    </tr>\n",
              "    <tr>\n",
              "      <th>inter_Diploma_percentage</th>\n",
              "      <td>0.625586</td>\n",
              "      <td>1.000000</td>\n",
              "      <td>0.729697</td>\n",
              "    </tr>\n",
              "    <tr>\n",
              "      <th>B.Tech_percentage</th>\n",
              "      <td>0.492849</td>\n",
              "      <td>0.729697</td>\n",
              "      <td>1.000000</td>\n",
              "    </tr>\n",
              "  </tbody>\n",
              "</table>\n",
              "</div>"
            ],
            "text/plain": [
              "                          SSC Percentage  ...  B.Tech_percentage\n",
              "SSC Percentage                  1.000000  ...           0.492849\n",
              "inter_Diploma_percentage        0.625586  ...           0.729697\n",
              "B.Tech_percentage               0.492849  ...           1.000000\n",
              "\n",
              "[3 rows x 3 columns]"
            ]
          },
          "metadata": {
            "tags": []
          },
          "execution_count": 14
        }
      ]
    },
    {
      "cell_type": "markdown",
      "metadata": {
        "id": "veeh-5Cg2f5f"
      },
      "source": [
        "# 3) Draw a box plot to demonstrate Range, Interquartile range.\n",
        "### Use a box plot to explain the performance of placed vs unplaced students in B.Tech."
      ]
    },
    {
      "cell_type": "code",
      "metadata": {
        "id": "ResIgPKa26Vp",
        "outputId": "4d22dc72-bc15-4953-858a-f82dc5f4a583",
        "colab": {
          "base_uri": "https://localhost:8080/",
          "height": 240
        }
      },
      "source": [
        "sns.boxplot(x='placement status',y='B.Tech_percentage',data=df)"
      ],
      "execution_count": 15,
      "outputs": [
        {
          "output_type": "execute_result",
          "data": {
            "text/plain": [
              "<matplotlib.axes._subplots.AxesSubplot at 0x7f6417691e80>"
            ]
          },
          "metadata": {
            "tags": []
          },
          "execution_count": 15
        },
        {
          "output_type": "display_data",
          "data": {
            "image/png": "[encoded data removed]",
            "text/plain": [
              "<Figure size 432x288 with 1 Axes>"
            ]
          },
          "metadata": {
            "tags": [],
            "needs_background": "light"
          }
        }
      ]
    },
    {
      "cell_type": "markdown",
      "metadata": {
        "id": "njAAMMI031l5"
      },
      "source": [
        "It is clearly visible that placed students are performing better than unplaced students. Their min, Q1, Q3, median,max are all shown\n",
        "• The range for unplaced students is approximatly 32 to 75\n",
        "• The range for placed students is approximatly 65 to 88\n",
        "• The interquartile range for unplaced students is approximatly 55 to 65\n",
        "• The interquartile range for placed students is approximatly 55 to 65"
      ]
    },
    {
      "cell_type": "markdown",
      "metadata": {
        "id": "0UDnmapH5PnP"
      },
      "source": [
        "# 4) Show the correlation between 2 variables using a scatter plot.\n",
        " \n",
        "### Find the correlation between SSC percentage and inter_Diploma_percentage by visual inspection using a scatter plot. What type of correlation do they have between them?"
      ]
    },
    {
      "cell_type": "code",
      "metadata": {
        "id": "BUmYzFAS5ltU",
        "outputId": "5e1fddc9-a0e9-4133-a029-a18e4ab8e4f3",
        "colab": {
          "base_uri": "https://localhost:8080/",
          "height": 236
        }
      },
      "source": [
        "plt.scatter(df['SSC Percentage'],df['inter_Diploma_percentage'])"
      ],
      "execution_count": 16,
      "outputs": [
        {
          "output_type": "execute_result",
          "data": {
            "text/plain": [
              "<matplotlib.collections.PathCollection at 0x7f6417155b38>"
            ]
          },
          "metadata": {
            "tags": []
          },
          "execution_count": 16
        },
        {
          "output_type": "display_data",
          "data": {
            "image/png": "[encoded data removed]",
            "text/plain": [
              "<Figure size 432x288 with 1 Axes>"
            ]
          },
          "metadata": {
            "tags": [],
            "needs_background": "light"
          }
        }
      ]
    },
    {
      "cell_type": "markdown",
      "metadata": {
        "id": "t8IgwmWn61pY"
      },
      "source": [
        " Scatter Diagram Method"
      ]
    },
    {
      "cell_type": "markdown",
      "metadata": {
        "id": "19ZKF4dB69RW"
      },
      "source": [
        "# 5) Draw a histogram to show how data is distributed.\n",
        "## 5.1) Draw a histogram to show the distribution of SSC percentage. Most of the people got score in which range?"
      ]
    },
    {
      "cell_type": "code",
      "metadata": {
        "id": "cXe8Rk7c68pq",
        "outputId": "d5459b4a-55ef-454d-c0a4-a07ba052b0fb",
        "colab": {
          "base_uri": "https://localhost:8080/",
          "height": 233
        }
      },
      "source": [
        "bins=np.linspace(0,100,11)\n",
        " \n",
        "plt.hist(df['SSC Percentage'], bins, width=9)\n",
        "plt.xlabel('SSC Percentage',fontsize=17)"
      ],
      "execution_count": 17,
      "outputs": [
        {
          "output_type": "execute_result",
          "data": {
            "text/plain": [
              "Text(0.5, 0, 'SSC Percentage')"
            ]
          },
          "metadata": {
            "tags": []
          },
          "execution_count": 17
        },
        {
          "output_type": "display_data",
          "data": {
            "image/png": "[encoded data removed]",
            "text/plain": [
              "<Figure size 432x288 with 1 Axes>"
            ]
          },
          "metadata": {
            "tags": [],
            "needs_background": "light"
          }
        }
      ]
    },
    {
      "cell_type": "markdown",
      "metadata": {
        "id": "0PV5rc8f90fP"
      },
      "source": [
        " Most of the people got SSC score in  range of 80 to 90"
      ]
    },
    {
      "cell_type": "markdown",
      "metadata": {
        "id": "PiNejtM2-CQg"
      },
      "source": [
        "## 5.2) Draw a histogram to show the distribution of B.Tech percentage. Most of the people got a score in which range?"
      ]
    },
    {
      "cell_type": "code",
      "metadata": {
        "id": "6aA8x3rD-mhf",
        "outputId": "25748c9f-c80a-466b-cbd7-67c79a932165",
        "colab": {
          "base_uri": "https://localhost:8080/",
          "height": 253
        }
      },
      "source": [
        "plt.hist(df['B.Tech_percentage'], bins, width=9)\n",
        "plt.xlabel('B.Tech_percentage',fontsize=17)"
      ],
      "execution_count": 20,
      "outputs": [
        {
          "output_type": "execute_result",
          "data": {
            "text/plain": [
              "Text(0.5, 0, 'B.Tech_percentage')"
            ]
          },
          "metadata": {
            "tags": []
          },
          "execution_count": 20
        },
        {
          "output_type": "display_data",
          "data": {
            "image/png": "[encoded data removed]",
            "text/plain": [
              "<Figure size 432x288 with 1 Axes>"
            ]
          },
          "metadata": {
            "tags": [],
            "needs_background": "light"
          }
        }
      ]
    },
    {
      "cell_type": "markdown",
      "metadata": {
        "id": "_jOneenAAv1D"
      },
      "source": [
        " Most of the people got B.Tech score in  range of 70 to 80"
      ]
    },
    {
      "cell_type": "markdown",
      "metadata": {
        "id": "l8XCseCc_6o2"
      },
      "source": [
        "## 5.3) Draw a histogram to show the distribution of Intermediate percentage.Most of the people got score in which range?"
      ]
    },
    {
      "cell_type": "code",
      "metadata": {
        "id": "Jf3169gCALpz",
        "outputId": "1390c670-50b2-45c4-fc05-90e7863151ca",
        "colab": {
          "base_uri": "https://localhost:8080/",
          "height": 253
        }
      },
      "source": [
        "plt.hist(df['inter_Diploma_percentage'], bins, width=9)\n",
        "plt.xlabel('inter_Diploma_percentage',fontsize=17)"
      ],
      "execution_count": 21,
      "outputs": [
        {
          "output_type": "execute_result",
          "data": {
            "text/plain": [
              "Text(0.5, 0, 'inter_Diploma_percentage')"
            ]
          },
          "metadata": {
            "tags": []
          },
          "execution_count": 21
        },
        {
          "output_type": "display_data",
          "data": {
            "image/png": "[encoded data removed]",
            "text/plain": [
              "<Figure size 432x288 with 1 Axes>"
            ]
          },
          "metadata": {
            "tags": [],
            "needs_background": "light"
          }
        }
      ]
    },
    {
      "cell_type": "markdown",
      "metadata": {
        "id": "3N2w5cdgBD8H"
      },
      "source": [
        "Most of the people got inter_Diploma score in range of 80 to 90"
      ]
    },
    {
      "cell_type": "markdown",
      "metadata": {
        "id": "DwuLTgHCBZhr"
      },
      "source": [
        "# 6) For the given data, show which attributes as a)continuous b) Ordered c) Binary"
      ]
    },
    {
      "cell_type": "code",
      "metadata": {
        "id": "iLSGtK6vBotU",
        "outputId": "75cb588f-352c-424f-85c7-074614a64564",
        "colab": {
          "base_uri": "https://localhost:8080/",
          "height": 207
        }
      },
      "source": [
        "df.nunique()"
      ],
      "execution_count": 22,
      "outputs": [
        {
          "output_type": "execute_result",
          "data": {
            "text/plain": [
              "Roll No                               117\n",
              "Gender                                  2\n",
              "Section                                 2\n",
              "SSC Percentage                         88\n",
              "inter_Diploma_percentage               99\n",
              "B.Tech_percentage                     106\n",
              "Backlogs                               22\n",
              "registered_for_ Placement_Training      2\n",
              "placement status                        2\n",
              "dtype: int64"
            ]
          },
          "metadata": {
            "tags": []
          },
          "execution_count": 22
        }
      ]
    },
    {
      "cell_type": "markdown",
      "metadata": {
        "id": "ylROqLMbCB-D"
      },
      "source": [
        " From the above Data, it is clear that\n",
        " \n",
        "Gender Section registered_for_Placement Training, Placement status are binary attributes\n",
        " \n",
        "because they take only 2 values"
      ]
    },
    {
      "cell_type": "code",
      "metadata": {
        "id": "Iaa3EVTyClvD",
        "outputId": "130ed530-0fb0-47ea-e147-049cdf11dcc6",
        "colab": {
          "base_uri": "https://localhost:8080/",
          "height": 207
        }
      },
      "source": [
        "df.dtypes"
      ],
      "execution_count": 23,
      "outputs": [
        {
          "output_type": "execute_result",
          "data": {
            "text/plain": [
              "Roll No                                 int64\n",
              "Gender                                 object\n",
              "Section                                object\n",
              "SSC Percentage                        float64\n",
              "inter_Diploma_percentage              float64\n",
              "B.Tech_percentage                     float64\n",
              "Backlogs                                int64\n",
              "registered_for_ Placement_Training     object\n",
              "placement status                       object\n",
              "dtype: object"
            ]
          },
          "metadata": {
            "tags": []
          },
          "execution_count": 23
        }
      ]
    }
  ]
}